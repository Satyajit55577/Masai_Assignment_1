{
 "cells": [
  {
   "cell_type": "code",
   "execution_count": 7,
   "id": "476e5f54-8c1f-44dc-8460-be8e6e1d5153",
   "metadata": {},
   "outputs": [
    {
     "name": "stdout",
     "output_type": "stream",
     "text": [
      "=== Student Data Tracker ===\n",
      "1. Add Student Record\n",
      "2. Display All Records\n",
      "3. Calculate Average Marks\n",
      "4. Save to CSV File\n",
      "5. Exit\n"
     ]
    },
    {
     "name": "stdin",
     "output_type": "stream",
     "text": [
      "Enter your choice (1-5):  1\n",
      "Enter student name:  Satyajit Galande\n",
      "Enter roll number:  58\n",
      "Enter marks for Subject 1:  89\n",
      "Enter marks for Subject 2:  90\n",
      "Enter marks for Subject 3:  92\n"
     ]
    },
    {
     "name": "stdout",
     "output_type": "stream",
     "text": [
      "Student added successfully!\n",
      "\n",
      "students = [{'Name': 'Satyajit Galande', 'Roll Number': '58', 'Subject1': 89.0, 'Subject2': 90.0, 'Subject3': 92.0}]\n",
      "=== Student Data Tracker ===\n",
      "1. Add Student Record\n",
      "2. Display All Records\n",
      "3. Calculate Average Marks\n",
      "4. Save to CSV File\n",
      "5. Exit\n"
     ]
    },
    {
     "name": "stdin",
     "output_type": "stream",
     "text": [
      "Enter your choice (1-5):  1\n",
      "Enter student name:  Raj Lad\n",
      "Enter roll number:  59\n",
      "Enter marks for Subject 1:  92\n",
      "Enter marks for Subject 2:  95\n",
      "Enter marks for Subject 3:  90\n"
     ]
    },
    {
     "name": "stdout",
     "output_type": "stream",
     "text": [
      "Student added successfully!\n",
      "\n",
      "students = [{'Name': 'Satyajit Galande', 'Roll Number': '58', 'Subject1': 89.0, 'Subject2': 90.0, 'Subject3': 92.0}, {'Name': 'Raj Lad', 'Roll Number': '59', 'Subject1': 92.0, 'Subject2': 95.0, 'Subject3': 90.0}]\n",
      "=== Student Data Tracker ===\n",
      "1. Add Student Record\n",
      "2. Display All Records\n",
      "3. Calculate Average Marks\n",
      "4. Save to CSV File\n",
      "5. Exit\n"
     ]
    },
    {
     "name": "stdin",
     "output_type": "stream",
     "text": [
      "Enter your choice (1-5):  2\n"
     ]
    },
    {
     "name": "stdout",
     "output_type": "stream",
     "text": [
      "\n",
      "Student Records:\n",
      "1. {'Name': 'Satyajit Galande', 'Roll Number': '58', 'Subject1': 89.0, 'Subject2': 90.0, 'Subject3': 92.0}\n",
      "2. {'Name': 'Raj Lad', 'Roll Number': '59', 'Subject1': 92.0, 'Subject2': 95.0, 'Subject3': 90.0}\n",
      "\n",
      "=== Student Data Tracker ===\n",
      "1. Add Student Record\n",
      "2. Display All Records\n",
      "3. Calculate Average Marks\n",
      "4. Save to CSV File\n",
      "5. Exit\n"
     ]
    },
    {
     "name": "stdin",
     "output_type": "stream",
     "text": [
      "Enter your choice (1-5):  3\n"
     ]
    },
    {
     "name": "stdout",
     "output_type": "stream",
     "text": [
      "\n",
      "Average Marks per Student:\n",
      "Satyajit Galande --> Roll No: 58 --> Average Marks = 90.33\n",
      "Raj Lad --> Roll No: 59 --> Average Marks = 92.33\n",
      "\n",
      "=== Student Data Tracker ===\n",
      "1. Add Student Record\n",
      "2. Display All Records\n",
      "3. Calculate Average Marks\n",
      "4. Save to CSV File\n",
      "5. Exit\n"
     ]
    },
    {
     "name": "stdin",
     "output_type": "stream",
     "text": [
      "Enter your choice (1-5):  4\n"
     ]
    },
    {
     "name": "stdout",
     "output_type": "stream",
     "text": [
      "Records saved to 'students.csv' successfully!\n",
      "\n",
      "=== Student Data Tracker ===\n",
      "1. Add Student Record\n",
      "2. Display All Records\n",
      "3. Calculate Average Marks\n",
      "4. Save to CSV File\n",
      "5. Exit\n"
     ]
    },
    {
     "name": "stdin",
     "output_type": "stream",
     "text": [
      "Enter your choice (1-5):  5\n"
     ]
    },
    {
     "name": "stdout",
     "output_type": "stream",
     "text": [
      "👋 Exiting application. Goodbye!\n"
     ]
    }
   ],
   "source": [
    "# Global list to store student dictionaries\n",
    "students = []\n",
    "\n",
    "# Function to input student data\n",
    "def add_student():\n",
    "    try:\n",
    "        # Taking name and roll number from user\n",
    "        name = input(\"Enter student name: \")\n",
    "        roll = input(\"Enter roll number: \")\n",
    "        # Taking marks of 3 subjects from user\n",
    "        marks = []\n",
    "        for i in range(1, 4):\n",
    "            mark = float(input(f\"Enter marks for Subject {i}: \"))\n",
    "            marks.append(mark)\n",
    "        # Storing all these student details in a Dictionary\n",
    "        student = {\n",
    "            'Name': name,\n",
    "            'Roll Number': roll,\n",
    "            'Subject1': marks[0],\n",
    "            'Subject2': marks[1],\n",
    "            'Subject3': marks[2]\n",
    "        }\n",
    "        # Append the Dictionary to a List\n",
    "        students.append(student)\n",
    "        print(\"Student added successfully!\\n\")\n",
    "        print(f\"students = {students}\")\n",
    "    except ValueError:\n",
    "        print(\"Invalid input. Please enter numeric values for marks.\\n\")\n",
    "\n",
    "# Function to display all records\n",
    "def display_records():\n",
    "    # Check if the students list is empty and If it’s empty, we show a error message and exit from the function.\n",
    "    if not students:\n",
    "        print(\"No student records found.\\n\")\n",
    "        return\n",
    "    print(\"\\nStudent Records:\")\n",
    "    # Looping through the students list.\n",
    "    for i, student in enumerate(students, start=1):\n",
    "        # Printing each student's details one by one.\n",
    "        print(f\"{i}. {student}\")\n",
    "    print()\n",
    "\n",
    "# Function to calculate and show average marks\n",
    "\n",
    "''' For each student dictionary:\n",
    "    We access marks using keys: 'Subject1', 'Subject2', 'Subject3'.\n",
    "    Add them and divide by 3 to get average.\n",
    "'''\n",
    "\n",
    "def calculate_averages():\n",
    "    # Exiting Function for Potential Errors like No students records\n",
    "    if not students:\n",
    "        print(\"No records to calculate averages.\\n\")\n",
    "        return\n",
    "    print(\"\\nAverage Marks per Student:\")\n",
    "    for student in students:\n",
    "        avg = (student['Subject1'] + student['Subject2'] + student['Subject3']) / 3\n",
    "        avg = round(avg, 2)\n",
    "        print(f\"{student['Name']} --> Roll No: {student['Roll Number']} --> Average Marks = {avg}\")\n",
    "    print()\n",
    "\n",
    "# Step 4: Save to CSV\n",
    "\n",
    "import csv \n",
    "\n",
    "def save_to_csv():\n",
    "    # Exiting Function for Potential Errors like No students records\n",
    "    if not students:\n",
    "        print(\"No records to save.\\n\")\n",
    "        return\n",
    "\n",
    "    # open(\"students.csv\", mode='w', newline='')\n",
    "    # \"students.csv\": Name of the file to save.\n",
    "    # mode='w': Open the file in write mode (it will overwrite if already exists).\n",
    "    # newline='': Prevents adding empty lines between rows.\n",
    "\n",
    "    with open(\"students.csv\", mode='w', newline='') as file:\n",
    "        writer = csv.writer(file)\n",
    "        writer.writerow([\"Name\", \"Roll Number\", \"Subject1\", \"Subject2\", \"Subject3\"])\n",
    "        for student in students:\n",
    "            writer.writerow([\n",
    "                student[\"Name\"],\n",
    "                student[\"Roll Number\"],\n",
    "                student[\"Subject1\"],\n",
    "                student[\"Subject2\"],\n",
    "                student[\"Subject3\"]\n",
    "            ])\n",
    "    print(\"Records saved to 'students.csv' successfully!\\n\")\n",
    "\n",
    "\n",
    "# Step 5: Main Menu Loop\n",
    "def main():\n",
    "    while True:\n",
    "        print(\"=== Student Data Tracker ===\")\n",
    "        print(\"1. Add Student Record\")\n",
    "        print(\"2. Display All Records\")\n",
    "        print(\"3. Calculate Average Marks\")\n",
    "        print(\"4. Save to CSV File\")\n",
    "        print(\"5. Exit\")\n",
    "\n",
    "        choice = input(\"Enter your choice (1-5): \")\n",
    "\n",
    "        if choice == '1':\n",
    "            add_student()\n",
    "        elif choice == '2':\n",
    "            display_records()\n",
    "        elif choice == '3':\n",
    "            calculate_averages()\n",
    "        elif choice == '4':\n",
    "            save_to_csv()\n",
    "        elif choice == '5':\n",
    "            print(\"👋 Exiting application. Goodbye!\")\n",
    "            break\n",
    "        else:\n",
    "            print(\"❌ Invalid choice. Please enter a number from 1 to 5.\\n\")\n",
    "\n",
    "# Final touch to make it runnable\n",
    "if __name__ == \"__main__\":\n",
    "    main()\n"
   ]
  },
  {
   "cell_type": "code",
   "execution_count": null,
   "id": "30375679-192d-447b-83c6-308006a1ef6a",
   "metadata": {},
   "outputs": [],
   "source": []
  }
 ],
 "metadata": {
  "kernelspec": {
   "display_name": "Python [conda env:base] *",
   "language": "python",
   "name": "conda-base-py"
  },
  "language_info": {
   "codemirror_mode": {
    "name": "ipython",
    "version": 3
   },
   "file_extension": ".py",
   "mimetype": "text/x-python",
   "name": "python",
   "nbconvert_exporter": "python",
   "pygments_lexer": "ipython3",
   "version": "3.11.7"
  }
 },
 "nbformat": 4,
 "nbformat_minor": 5
}
